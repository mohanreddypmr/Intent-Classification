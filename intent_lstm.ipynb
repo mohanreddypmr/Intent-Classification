{
 "cells": [
  {
   "cell_type": "markdown",
   "metadata": {},
   "source": [
    "\n",
    "# preproessing of data"
   ]
  },
  {
   "cell_type": "code",
   "execution_count": 3,
   "metadata": {
    "colab": {
     "base_uri": "https://localhost:8080/",
     "height": 225
    },
    "colab_type": "code",
    "id": "zwxkKaTXYRHw",
    "outputId": "a30af730-1143-4a64-df15-2ebbbe44f8f8"
   },
   "outputs": [
    {
     "name": "stdout",
     "output_type": "stream",
     "text": [
      "Downloading...\n",
      "From: https://drive.google.com/uc?id=1OlcvGWReJMuyYQuOZm149vHWwPtlboR6\n",
      "To: /home/mohan/Downloads/train.csv\n",
      "100%|█████████████████████████████████████████| 799k/799k [00:04<00:00, 199kB/s]\n",
      "Downloading...\n",
      "From: https://drive.google.com/uc?id=1Oi5cRlTybuIF2Fl5Bfsr-KkqrXrdt77w\n",
      "To: /home/mohan/Downloads/valid.csv\n",
      "100%|███████████████████████████████████████| 43.3k/43.3k [00:00<00:00, 198kB/s]\n",
      "Downloading...\n",
      "From: https://drive.google.com/uc?id=1ep9H6-HvhB4utJRLVcLzieWNUSG3P_uF\n",
      "To: /home/mohan/Downloads/test.csv\n",
      "100%|███████████████████████████████████████| 43.1k/43.1k [00:00<00:00, 111kB/s]\n"
     ]
    }
   ],
   "source": [
    "!gdown --id 1OlcvGWReJMuyYQuOZm149vHWwPtlboR6 --output train.csv\n",
    "!gdown --id 1Oi5cRlTybuIF2Fl5Bfsr-KkqrXrdt77w --output valid.csv\n",
    "!gdown --id 1ep9H6-HvhB4utJRLVcLzieWNUSG3P_uF --output test.csv"
   ]
  },
  {
   "cell_type": "code",
   "execution_count": 0,
   "metadata": {
    "colab": {},
    "colab_type": "code",
    "id": "vLNcxh8HY4o2"
   },
   "outputs": [],
   "source": [
    "import pandas as pd\n",
    "import numpy as np"
   ]
  },
  {
   "cell_type": "code",
   "execution_count": 0,
   "metadata": {
    "colab": {},
    "colab_type": "code",
    "id": "8wLlf-GSYdJ3"
   },
   "outputs": [],
   "source": [
    "train = pd.read_csv(\"/content/train.csv\")\n",
    "valid = pd.read_csv(\"/content/valid.csv\")\n",
    "test = pd.read_csv(\"/content/test.csv\")\n"
   ]
  },
  {
   "cell_type": "code",
   "execution_count": 4,
   "metadata": {
    "colab": {
     "base_uri": "https://localhost:8080/",
     "height": 206
    },
    "colab_type": "code",
    "id": "niqaB2FGYkh7",
    "outputId": "e52cfa58-0ebd-45b6-f623-f46d41e30710"
   },
   "outputs": [
    {
     "data": {
      "text/html": [
       "<div>\n",
       "<style scoped>\n",
       "    .dataframe tbody tr th:only-of-type {\n",
       "        vertical-align: middle;\n",
       "    }\n",
       "\n",
       "    .dataframe tbody tr th {\n",
       "        vertical-align: top;\n",
       "    }\n",
       "\n",
       "    .dataframe thead th {\n",
       "        text-align: right;\n",
       "    }\n",
       "</style>\n",
       "<table border=\"1\" class=\"dataframe\">\n",
       "  <thead>\n",
       "    <tr style=\"text-align: right;\">\n",
       "      <th></th>\n",
       "      <th>text</th>\n",
       "      <th>intent</th>\n",
       "    </tr>\n",
       "  </thead>\n",
       "  <tbody>\n",
       "    <tr>\n",
       "      <th>0</th>\n",
       "      <td>listen to westbam alumb allergic on google music</td>\n",
       "      <td>PlayMusic</td>\n",
       "    </tr>\n",
       "    <tr>\n",
       "      <th>1</th>\n",
       "      <td>add step to me to the 50 clásicos playlist</td>\n",
       "      <td>AddToPlaylist</td>\n",
       "    </tr>\n",
       "    <tr>\n",
       "      <th>2</th>\n",
       "      <td>i give this current textbook a rating value of...</td>\n",
       "      <td>RateBook</td>\n",
       "    </tr>\n",
       "    <tr>\n",
       "      <th>3</th>\n",
       "      <td>play the song little robin redbreast</td>\n",
       "      <td>PlayMusic</td>\n",
       "    </tr>\n",
       "    <tr>\n",
       "      <th>4</th>\n",
       "      <td>please add iris dement to my playlist this is ...</td>\n",
       "      <td>AddToPlaylist</td>\n",
       "    </tr>\n",
       "  </tbody>\n",
       "</table>\n",
       "</div>"
      ],
      "text/plain": [
       "                                                text         intent\n",
       "0   listen to westbam alumb allergic on google music      PlayMusic\n",
       "1         add step to me to the 50 clásicos playlist  AddToPlaylist\n",
       "2  i give this current textbook a rating value of...       RateBook\n",
       "3               play the song little robin redbreast      PlayMusic\n",
       "4  please add iris dement to my playlist this is ...  AddToPlaylist"
      ]
     },
     "execution_count": 4,
     "metadata": {
      "tags": []
     },
     "output_type": "execute_result"
    }
   ],
   "source": [
    "train.head()"
   ]
  },
  {
   "cell_type": "code",
   "execution_count": 5,
   "metadata": {
    "colab": {
     "base_uri": "https://localhost:8080/",
     "height": 34
    },
    "colab_type": "code",
    "id": "_ZQhLUY9ZBwj",
    "outputId": "8a0dc43a-cc91-45be-d096-e63d685be966"
   },
   "outputs": [
    {
     "data": {
      "text/plain": [
       "(13084, 2)"
      ]
     },
     "execution_count": 5,
     "metadata": {
      "tags": []
     },
     "output_type": "execute_result"
    }
   ],
   "source": [
    "train.shape"
   ]
  },
  {
   "cell_type": "code",
   "execution_count": 6,
   "metadata": {
    "colab": {
     "base_uri": "https://localhost:8080/",
     "height": 34
    },
    "colab_type": "code",
    "id": "YpU1C8dvZFTt",
    "outputId": "096be281-5978-417c-8aa9-93607e3769d4"
   },
   "outputs": [
    {
     "data": {
      "text/plain": [
       "(700, 2)"
      ]
     },
     "execution_count": 6,
     "metadata": {
      "tags": []
     },
     "output_type": "execute_result"
    }
   ],
   "source": [
    "valid.shape"
   ]
  },
  {
   "cell_type": "code",
   "execution_count": 7,
   "metadata": {
    "colab": {
     "base_uri": "https://localhost:8080/",
     "height": 34
    },
    "colab_type": "code",
    "id": "st35LRG3ZKjG",
    "outputId": "5e4a3199-b0c2-437d-94bc-06897b1080b9"
   },
   "outputs": [
    {
     "data": {
      "text/plain": [
       "(700, 2)"
      ]
     },
     "execution_count": 7,
     "metadata": {
      "tags": []
     },
     "output_type": "execute_result"
    }
   ],
   "source": [
    "test.shape"
   ]
  },
  {
   "cell_type": "code",
   "execution_count": 8,
   "metadata": {
    "colab": {
     "base_uri": "https://localhost:8080/",
     "height": 156
    },
    "colab_type": "code",
    "id": "j1-zWAtFZgk3",
    "outputId": "8256778d-5f53-42ec-f9b9-4d79c88dc7a8"
   },
   "outputs": [
    {
     "data": {
      "text/plain": [
       "PlayMusic               1914\n",
       "GetWeather              1896\n",
       "BookRestaurant          1881\n",
       "RateBook                1876\n",
       "SearchScreeningEvent    1852\n",
       "SearchCreativeWork      1847\n",
       "AddToPlaylist           1818\n",
       "Name: intent, dtype: int64"
      ]
     },
     "execution_count": 8,
     "metadata": {
      "tags": []
     },
     "output_type": "execute_result"
    }
   ],
   "source": [
    "train['intent'].value_counts()"
   ]
  },
  {
   "cell_type": "code",
   "execution_count": 9,
   "metadata": {
    "colab": {
     "base_uri": "https://localhost:8080/",
     "height": 334
    },
    "colab_type": "code",
    "id": "ioDVyO4gZlQZ",
    "outputId": "55de28fd-e8bc-47fd-c5b5-d756ff104c6b"
   },
   "outputs": [
    {
     "name": "stderr",
     "output_type": "stream",
     "text": [
      "/usr/local/lib/python3.6/dist-packages/statsmodels/tools/_testing.py:19: FutureWarning: pandas.util.testing is deprecated. Use the functions in the public API at pandas.testing instead.\n",
      "  import pandas.util.testing as tm\n"
     ]
    },
    {
     "data": {
      "text/plain": [
       "<matplotlib.axes._subplots.AxesSubplot at 0x7fbf47e93b38>"
      ]
     },
     "execution_count": 9,
     "metadata": {
      "tags": []
     },
     "output_type": "execute_result"
    },
    {
     "data": {
      "image/png": "[encoded data removed]",
      "text/plain": [
       "<Figure size 432x288 with 1 Axes>"
      ]
     },
     "metadata": {
      "needs_background": "light",
      "tags": []
     },
     "output_type": "display_data"
    }
   ],
   "source": [
    "import seaborn as sns\n",
    "sns.countplot(train['intent'])"
   ]
  },
  {
   "cell_type": "code",
   "execution_count": 0,
   "metadata": {
    "colab": {},
    "colab_type": "code",
    "id": "QvdctiwWakHY"
   },
   "outputs": [],
   "source": [
    "from tensorflow.keras.preprocessing.sequence import pad_sequences\n",
    "\n",
    "from tensorflow.keras.preprocessing.text import Tokenizer\n",
    "from tensorflow.keras.utils import to_categorical\n",
    "\n",
    "tokenizer=Tokenizer()\n",
    "\n",
    "tokenizer.fit_on_texts(train['text'].values)"
   ]
  },
  {
   "cell_type": "code",
   "execution_count": 11,
   "metadata": {
    "colab": {
     "base_uri": "https://localhost:8080/",
     "height": 34
    },
    "colab_type": "code",
    "id": "h18V8kYcydLi",
    "outputId": "ec310ee3-92db-4267-f3f6-d55f7fb46336"
   },
   "outputs": [
    {
     "name": "stdout",
     "output_type": "stream",
     "text": [
      "11086\n"
     ]
    }
   ],
   "source": [
    "word_index = tokenizer.word_index\n",
    "vocab_size=len(word_index)\n",
    "\n",
    "print(vocab_size)"
   ]
  },
  {
   "cell_type": "code",
   "execution_count": 0,
   "metadata": {
    "colab": {},
    "colab_type": "code",
    "id": "ae-I8tCvye7r"
   },
   "outputs": [],
   "source": [
    "train_sequences = tokenizer.texts_to_sequences(train['text'].values)\n",
    "sen_len=[]\n",
    "for i in train_sequences:\n",
    "    sen_len.append(len(i))\n"
   ]
  },
  {
   "cell_type": "code",
   "execution_count": 13,
   "metadata": {
    "colab": {
     "base_uri": "https://localhost:8080/",
     "height": 34
    },
    "colab_type": "code",
    "id": "pqBuVrNZy4s7",
    "outputId": "beb01260-4709-4bbb-9854-14e2c233f2f5"
   },
   "outputs": [
    {
     "data": {
      "text/plain": [
       "35"
      ]
     },
     "execution_count": 13,
     "metadata": {
      "tags": []
     },
     "output_type": "execute_result"
    }
   ],
   "source": [
    "max(sen_len)"
   ]
  },
  {
   "cell_type": "code",
   "execution_count": 0,
   "metadata": {
    "colab": {},
    "colab_type": "code",
    "id": "DFKkHhkyzIH7"
   },
   "outputs": [],
   "source": [
    "train_padded = pad_sequences(train_sequences, maxlen=40, padding='post')"
   ]
  },
  {
   "cell_type": "code",
   "execution_count": 0,
   "metadata": {
    "colab": {},
    "colab_type": "code",
    "id": "7j4q7pmBzYpu"
   },
   "outputs": [],
   "source": [
    "valid_sequences = tokenizer.texts_to_sequences(valid['text'].values)\n",
    "\n",
    "valid_padded = pad_sequences(valid_sequences, maxlen=40, padding='post')\n",
    "\n"
   ]
  },
  {
   "cell_type": "code",
   "execution_count": 0,
   "metadata": {
    "colab": {},
    "colab_type": "code",
    "id": "0hdmENG9z5_t"
   },
   "outputs": [],
   "source": [
    "import tensorflow as tf\n",
    "\n",
    "classes=list(set(list(train['intent'].values)))\n",
    "\n",
    "class_index={}\n",
    "\n",
    "c=0\n",
    "for i in classes:\n",
    "    class_index[i]=c\n",
    "    c+=1\n",
    "\n",
    "for i in range(train.shape[0]):\n",
    "    train['intent'].loc[i]=class_index[train['intent'].loc[i]]\n",
    "\n",
    "y_train=tf.keras.utils.to_categorical(train['intent'].values, num_classes=7, dtype='float32')\n",
    "\n",
    "for i in range(valid.shape[0]):\n",
    "    valid['intent'].loc[i]=class_index[valid['intent'].loc[i]]\n",
    "\n",
    "y_valid=tf.keras.utils.to_categorical(valid['intent'].values, num_classes=7, dtype='float32')"
   ]
  },
  {
   "cell_type": "code",
   "execution_count": 17,
   "metadata": {
    "colab": {
     "base_uri": "https://localhost:8080/",
     "height": 34
    },
    "colab_type": "code",
    "id": "MDZ8bZAe0xvn",
    "outputId": "117de461-7513-4a5d-9e4b-227cee76a6a3"
   },
   "outputs": [
    {
     "data": {
      "text/plain": [
       "(13084, 7)"
      ]
     },
     "execution_count": 17,
     "metadata": {
      "tags": []
     },
     "output_type": "execute_result"
    }
   ],
   "source": [
    "y_train.shape"
   ]
  },
  {
   "cell_type": "code",
   "execution_count": 18,
   "metadata": {
    "colab": {
     "base_uri": "https://localhost:8080/",
     "height": 34
    },
    "colab_type": "code",
    "id": "1cEzEKR_1LCz",
    "outputId": "08c3b53e-85bc-4fd8-ee44-4cef738333b4"
   },
   "outputs": [
    {
     "data": {
      "text/plain": [
       "(700, 7)"
      ]
     },
     "execution_count": 18,
     "metadata": {
      "tags": []
     },
     "output_type": "execute_result"
    }
   ],
   "source": [
    "y_valid.shape"
   ]
  },
  {
   "cell_type": "markdown",
   "metadata": {},
   "source": [
    "# Model"
   ]
  },
  {
   "cell_type": "code",
   "execution_count": 0,
   "metadata": {
    "colab": {},
    "colab_type": "code",
    "id": "6UDrLPVL3_Qh"
   },
   "outputs": [],
   "source": [
    "from tensorflow.keras import layers\n",
    "\n",
    "tf.keras.backend.clear_session()  \n",
    "\n",
    "embedding_dim = 64 \n",
    "\n",
    "def create_func_model():\n",
    "    inputs = tf.keras.Input(shape=(40,))\n",
    "    o1 = layers.Embedding(vocab_size+1,embedding_dim )(inputs)\n",
    "    o2=tf.keras.layers.LSTM(64,return_sequences=True, return_state=True)(o1)\n",
    "    o3=tf.keras.layers.LSTM(64)(o2)\n",
    "    o4 = layers.Dense(128, activation='relu')(o3)\n",
    "    outputs = layers.Dense(7,activation='softmax')(o4)\n",
    "\n",
    "    model_func = tf.keras.Model(inputs, outputs, name='model_func')\n",
    "\n",
    "  \n",
    "    model_func.compile(optimizer='adam',\n",
    "              loss=tf.keras.losses.CategoricalCrossentropy(),\n",
    "              metrics=['accuracy'])\n",
    "    return model_func"
   ]
  },
  {
   "cell_type": "code",
   "execution_count": 0,
   "metadata": {
    "colab": {},
    "colab_type": "code",
    "id": "XUak5dDR6YGx"
   },
   "outputs": [],
   "source": [
    "model=create_func_model()"
   ]
  },
  {
   "cell_type": "code",
   "execution_count": 21,
   "metadata": {
    "colab": {
     "base_uri": "https://localhost:8080/",
     "height": 399
    },
    "colab_type": "code",
    "id": "fjFL6BteBWO5",
    "outputId": "557fdd71-02f1-4f34-d842-29f33dfd9144"
   },
   "outputs": [
    {
     "name": "stdout",
     "output_type": "stream",
     "text": [
      "Model: \"model_func\"\n",
      "__________________________________________________________________________________________________\n",
      "Layer (type)                    Output Shape         Param #     Connected to                     \n",
      "==================================================================================================\n",
      "input_1 (InputLayer)            [(None, 40)]         0                                            \n",
      "__________________________________________________________________________________________________\n",
      "embedding (Embedding)           (None, 40, 64)       709568      input_1[0][0]                    \n",
      "__________________________________________________________________________________________________\n",
      "lstm (LSTM)                     [(None, 40, 64), (No 33024       embedding[0][0]                  \n",
      "__________________________________________________________________________________________________\n",
      "lstm_1 (LSTM)                   (None, 64)           33024       lstm[0][0]                       \n",
      "                                                                 lstm[0][1]                       \n",
      "                                                                 lstm[0][2]                       \n",
      "__________________________________________________________________________________________________\n",
      "dense (Dense)                   (None, 128)          8320        lstm_1[0][0]                     \n",
      "__________________________________________________________________________________________________\n",
      "dense_1 (Dense)                 (None, 7)            903         dense[0][0]                      \n",
      "==================================================================================================\n",
      "Total params: 784,839\n",
      "Trainable params: 784,839\n",
      "Non-trainable params: 0\n",
      "__________________________________________________________________________________________________\n"
     ]
    }
   ],
   "source": [
    "model.summary()"
   ]
  },
  {
   "cell_type": "markdown",
   "metadata": {},
   "source": [
    "# Training:"
   ]
  },
  {
   "cell_type": "code",
   "execution_count": 22,
   "metadata": {
    "colab": {
     "base_uri": "https://localhost:8080/",
     "height": 382
    },
    "colab_type": "code",
    "id": "CeUQxSZQBmy3",
    "outputId": "ab00289e-189c-45e7-8fb0-d1e48ebf37fb"
   },
   "outputs": [
    {
     "name": "stdout",
     "output_type": "stream",
     "text": [
      "Epoch 1/10\n",
      "409/409 [==============================] - 23s 57ms/step - loss: 1.2540 - accuracy: 0.4233 - val_loss: 0.7454 - val_accuracy: 0.6414\n",
      "Epoch 2/10\n",
      "409/409 [==============================] - 22s 55ms/step - loss: 0.4155 - accuracy: 0.8387 - val_loss: 0.3378 - val_accuracy: 0.8886\n",
      "Epoch 3/10\n",
      "409/409 [==============================] - 22s 55ms/step - loss: 0.1603 - accuracy: 0.9534 - val_loss: 0.1537 - val_accuracy: 0.9543\n",
      "Epoch 4/10\n",
      "409/409 [==============================] - 22s 55ms/step - loss: 0.0732 - accuracy: 0.9810 - val_loss: 0.1294 - val_accuracy: 0.9614\n",
      "Epoch 5/10\n",
      "409/409 [==============================] - 22s 54ms/step - loss: 0.0521 - accuracy: 0.9870 - val_loss: 0.1518 - val_accuracy: 0.9586\n",
      "Epoch 6/10\n",
      "409/409 [==============================] - 22s 55ms/step - loss: 0.0474 - accuracy: 0.9888 - val_loss: 0.1627 - val_accuracy: 0.9629\n",
      "Epoch 7/10\n",
      "409/409 [==============================] - 23s 55ms/step - loss: 0.0478 - accuracy: 0.9894 - val_loss: 0.1466 - val_accuracy: 0.9657\n",
      "Epoch 8/10\n",
      "409/409 [==============================] - 22s 54ms/step - loss: 0.0320 - accuracy: 0.9930 - val_loss: 0.1540 - val_accuracy: 0.9686\n",
      "Epoch 9/10\n",
      "409/409 [==============================] - 22s 55ms/step - loss: 0.0172 - accuracy: 0.9962 - val_loss: 0.1791 - val_accuracy: 0.9629\n",
      "Epoch 10/10\n",
      "409/409 [==============================] - 22s 55ms/step - loss: 0.0583 - accuracy: 0.9858 - val_loss: 0.1819 - val_accuracy: 0.9571\n"
     ]
    },
    {
     "data": {
      "text/plain": [
       "<tensorflow.python.keras.callbacks.History at 0x7fbf02ebb240>"
      ]
     },
     "execution_count": 22,
     "metadata": {
      "tags": []
     },
     "output_type": "execute_result"
    }
   ],
   "source": [
    "model.fit(train_padded,y_train,epochs=10,validation_data=(valid_padded,y_valid))"
   ]
  },
  {
   "cell_type": "code",
   "execution_count": 0,
   "metadata": {
    "colab": {},
    "colab_type": "code",
    "id": "UZTdAUwcDhNf"
   },
   "outputs": [],
   "source": [
    "for i in range(test.shape[0]):\n",
    "    test['intent'].loc[i]=class_index[test['intent'].loc[i]]\n",
    "\n",
    "y_test=tf.keras.utils.to_categorical(test['intent'].values, num_classes=7, dtype='float32')"
   ]
  },
  {
   "cell_type": "code",
   "execution_count": 0,
   "metadata": {
    "colab": {},
    "colab_type": "code",
    "id": "2kjDDGb8DtaS"
   },
   "outputs": [],
   "source": [
    "test_sequences = tokenizer.texts_to_sequences(test['text'].values)\n",
    "\n",
    "test_padded = pad_sequences(test_sequences, maxlen=40, padding='post')"
   ]
  },
  {
   "cell_type": "markdown",
   "metadata": {},
   "source": [
    "# Predicting:"
   ]
  },
  {
   "cell_type": "code",
   "execution_count": 0,
   "metadata": {
    "colab": {},
    "colab_type": "code",
    "id": "VWmSKfUrB9xC"
   },
   "outputs": [],
   "source": [
    "y_pred=model.predict(test_padded)\n",
    "\n"
   ]
  },
  {
   "cell_type": "code",
   "execution_count": 0,
   "metadata": {
    "colab": {},
    "colab_type": "code",
    "id": "GSN7gwLCEaYm"
   },
   "outputs": [],
   "source": [
    "pred=np.argmax(y_pred,axis=1)\n",
    "actual=np.argmax(y_test,axis=1)"
   ]
  },
  {
   "cell_type": "markdown",
   "metadata": {},
   "source": [
    "# Confusion matrix"
   ]
  },
  {
   "cell_type": "code",
   "execution_count": 0,
   "metadata": {
    "colab": {},
    "colab_type": "code",
    "id": "DxvxaeG8FoLp"
   },
   "outputs": [],
   "source": [
    "con_mat = tf.math.confusion_matrix(labels=actual, predictions=pred).numpy()"
   ]
  },
  {
   "cell_type": "code",
   "execution_count": 28,
   "metadata": {
    "colab": {
     "base_uri": "https://localhost:8080/",
     "height": 469
    },
    "colab_type": "code",
    "id": "Tv-GCQkJGZdK",
    "outputId": "fde97509-0f07-4c56-856a-7ca6bcee3f34"
   },
   "outputs": [
    {
     "name": "stdout",
     "output_type": "stream",
     "text": [
      "                      GetWeather  BookRestaurant  PlayMusic  \\\n",
      "GetWeather                   102               2          0   \n",
      "BookRestaurant                 0              92          0   \n",
      "PlayMusic                      0               0         78   \n",
      "SearchCreativeWork             0               0          4   \n",
      "SearchScreeningEvent           0               1          0   \n",
      "RateBook                       0               0          0   \n",
      "AddToPlaylist                  0               0          0   \n",
      "\n",
      "                      SearchCreativeWork  SearchScreeningEvent  RateBook  \\\n",
      "GetWeather                             0                     0         0   \n",
      "BookRestaurant                         0                     0         0   \n",
      "PlayMusic                              7                     0         0   \n",
      "SearchCreativeWork                    86                    17         0   \n",
      "SearchScreeningEvent                   5                   101         0   \n",
      "RateBook                               0                     0        80   \n",
      "AddToPlaylist                          0                     0         0   \n",
      "\n",
      "                      AddToPlaylist  \n",
      "GetWeather                        0  \n",
      "BookRestaurant                    0  \n",
      "PlayMusic                         1  \n",
      "SearchCreativeWork                0  \n",
      "SearchScreeningEvent              0  \n",
      "RateBook                          0  \n",
      "AddToPlaylist                   124  \n"
     ]
    }
   ],
   "source": [
    "import pandas as pd\n",
    "pd.set_option('max_columns', None)\n",
    "class_names=classes\n",
    "\n",
    "con_mat_dataframe = pd.DataFrame(con_mat,index = class_names, columns = class_names)\n",
    "print(con_mat_dataframe)"
   ]
  },
  {
   "cell_type": "code",
   "execution_count": 29,
   "metadata": {
    "colab": {
     "base_uri": "https://localhost:8080/",
     "height": 34
    },
    "colab_type": "code",
    "id": "zGTHZQEYHa8r",
    "outputId": "f4095cc4-d6a1-4aca-a643-0e2700058a3f"
   },
   "outputs": [
    {
     "name": "stdout",
     "output_type": "stream",
     "text": [
      "accuracy of test data 0.9471428571428572\n"
     ]
    }
   ],
   "source": [
    "total=0\n",
    "for i in range(pred.shape[0]):\n",
    "    if pred[i]==actual[i]:\n",
    "        total+=1\n",
    "print('accuracy of test data '+str(total/700))        "
   ]
  }
 ],
 "metadata": {
  "colab": {
   "collapsed_sections": [],
   "name": "intent_lstm.ipynb",
   "provenance": []
  },
  "kernelspec": {
   "display_name": "Python 3",
   "language": "python",
   "name": "python3"
  },
  "language_info": {
   "codemirror_mode": {
    "name": "ipython",
    "version": 3
   },
   "file_extension": ".py",
   "mimetype": "text/x-python",
   "name": "python",
   "nbconvert_exporter": "python",
   "pygments_lexer": "ipython3",
   "version": "3.7.6"
  }
 },
 "nbformat": 4,
 "nbformat_minor": 1
}
